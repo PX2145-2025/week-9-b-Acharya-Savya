{
 "cells": [
  {
   "cell_type": "markdown",
   "metadata": {},
   "source": [
    "# Feedback from previous weeks and other and hints\n",
    "\n",
    "1. Be careful about your environment remembering variables. Make sure your code works in a new _clean_ environment. In Colab: `Runtime`->`restart Runtime`, in Anaconda's Jupyter: `Kernel`->`Restart`.\n",
    "2. Keep the file names when saving to GitHub. It's always possible to go back to a previous version, you are not losing anything.\n",
    "3. Run all the cells before saving to GitHub so the output is saved.\n",
    "4. Graphs without labels (or units when appropriate) are not worth any point.\n",
    "5. Do put in sufficient explanatory comments in your code.\n",
    "\n",
    "For this week you can use these imports at the start of your programs:"
   ]
  },
  {
   "cell_type": "code",
   "execution_count": 1,
   "metadata": {},
   "outputs": [],
   "source": [
    "import numpy as np\n",
    "import matplotlib.pyplot as plt"
   ]
  },
  {
   "cell_type": "markdown",
   "metadata": {},
   "source": [
    "# Introduction\n",
    "\n",
    "This week we’ll use some of the techniques from the previous weeks (functions, array slicing, ODEs, ...) to see how to solve numerically for the motion of two bodies which attract each other through a gravitational force. While we can use `odeint()` from last week, we will go into some details of numerical solvers, and see which is applicable when by implementing our own solvers. They could then be compared with the ones available in `odeint()`.\n",
    "\n",
    "The gravitational force example in this sheet can be extended to several bodies, and since both gravitational and electrostatic forces have a $1/r^2$ distance dependence, the methods used here can be applied also to the case of a number of interacting charged objects.\n",
    "\n",
    "A numerical study is important since only the very simplest cases have an analytic solution - even just three interacting bodies cannot in general be solved analytically. We first look at the simplest analytically solvable case, that of circular orbits, which you met in PX1121 last year.\n",
    "\n",
    "## Circular Newtonian orbits - revision\n",
    "\n",
    "If two bodies are separated by a distance $r$ and interact through gravity, then the force $\\mathbf{F_G}$ acting on a body of mass $m$ due to a body of mass $M$ is:\n",
    "\n",
    "$$\n",
    "\\mathbf{F}_G = - \\frac{GMm}{r^2}\\hat{\\mathbf{r}}\n",
    "$$\n",
    "\n",
    "where $\\mathbf{\\hat{r}}$ is unit vector pointing from the body of mass $M$ to the body of mass $m$.\n",
    "\n",
    "We shall take the case where the mass $m \\ll M$ to simplify the subsequent equations. So we can treat the position of mass M as fixed at the origin. (To solve the more general case analytically, the concept of reduced mass needs to be introduced, which you will meet in another module.)\n",
    "\n",
    "There are many different possible paths or 'orbits' that the small mass can take, depending on its _initial conditions_. In general it will follow an elliptical orbit of size and eccentricity which can be calculated knowing these initial conditions $\\mathbf{r}_0$ and $\\mathbf{v}_0$.\n",
    "\n",
    "In the special case of circular motion, the initial velocity $\\mathbf{v}_0$ is perpendicular to $\\mathbf{r}_0$ and of the correct magnitude to produce an exactly circular orbit. The centripetal force acting on $m$ is\n",
    "\n",
    "$$\n",
    "\\mathbf{F}_c = - \\frac{mv^2}{r}\\hat{\\mathbf{r}}\n",
    "$$\n",
    "\n",
    "Equating $\\mathbf{F}_G = \\mathbf{F}_c$ and noting that for circular motion the speed can be related to the angular speed $\\omega$ by $v = r\\omega$, then we can derive that\n",
    "\n",
    "$$\n",
    "\\omega^2=\\frac{GM}{r^3}\n",
    "$$\n",
    "\n",
    "The angular speed is just the rate of change of the angle $\\phi$, and since $\\omega$ is a constant (for circular motion $r$ does not change!), the angle (or 'phase') as a function of time is $\\phi = \\omega t$. We can express the motion in two dimensions as (assuming that at $t = 0$ the location is $x=0,y=r$),\n",
    "\n",
    "$$\n",
    "\\begin{aligned}\n",
    "x(t) = r \\sin(\\omega t),\\,\\, y(t) = r \\cos(\\omega t)\n",
    "\\end{aligned}\n",
    "$$\n",
    "\n",
    "which can be plotted.\n",
    "\n",
    "## General 2D Newtonian orbits\n",
    "\n",
    "But orbits are not necessarily circular. We now extend the problem to arbitrary initial conditions. It’s possible to solve this analytically, but we go straight to exploring numerical methods.\n",
    "\n",
    "The equation of motion of mass $m \\ll M$ is\n",
    "\n",
    "$$\n",
    "\\frac{d^2 \\mathbf{r}}{dt^2}=-\\frac{GMm}{r^2}\\hat{\\mathbf{r}}\n",
    "$$\n",
    "\n",
    "(Note: breaking this up into components gives two equations\n",
    "\n",
    "$$\n",
    "\\begin{aligned}\n",
    "\\frac{d^2 x}{dt^2} & = -\\frac{GMx}{r^3} \\\\\n",
    "\\frac{d^2 y}{dt^2} & = -\\frac{GMy}{r^3}\n",
    "\\end{aligned}\n",
    "$$\n",
    "\n",
    "As we are dealing with only two bodies, and the forces are central, it’s clear that the motion is in a 2D plane, so we don’t need a $z$ component of motion.)\n",
    "\n",
    "# Our goals\n",
    "\n",
    "You will solve the last equation using several methods. The goals of the exercises are to\n",
    "\n",
    " 1. Workout how to solve (i.e. to integrate) the equations of motion above using various methods.\n",
    " \n",
    " \n",
    " 2. Compare their relative accuracy.\n",
    " \n",
    " \n",
    " 3. Understand the consequences of different choices of initial conditions – circular orbits and eccentric orbits.\n",
    " \n",
    " \n",
    " 4. See how to extend to another simple dynamical problem\n",
    " \n",
    "You will implement three different integration schemes and look at how accurately they solve the orbit equations.\n",
    "\n",
    "# Basic numerical approach\n",
    "\n",
    "One way to solve the second order equations of motion is to break it down into two coupled first-order equations. This can be done as follows:\n",
    "\n",
    "$$\n",
    "\\begin{aligned}\n",
    "d\\mathbf{r}/dt & = \\mathbf{v} \\\\ \n",
    "d\\mathbf{v}/dt & = \\mathbf{a} = -GM\\mathbf{r}/r^3\n",
    "\\end{aligned}\n",
    "$$\n",
    "\n",
    "Given some initial positions $\\mathbf{r}(t = 0) = [x(0), y(0)]$, and initial velocity components $\\mathbf{v}(t = 0) = [v_x(0),v_y(0)]$, then we integrate the first equation to get an update on the position, and the second equation to get an update on the velocity, at the next time step $\\Delta t$ later. We then repeat this for subsequent time steps. Let’s see three methods by which this can be done:\n",
    "\n",
    "\n",
    "## I Euler’s method\n",
    "\n",
    "The simplest integration method is Euler’s method, which you used in Week 9 of PX1224 last year. The update scheme is (_ensure that you understand this_):\n",
    "\n",
    "$$\n",
    "\\begin{aligned}\n",
    "\\mathbf{r}(t + \\Delta t) & = \\mathbf{r}(t) + \\mathbf{v}(t)\\Delta t \\\\\n",
    "\\mathbf{v}(t + \\Delta t) & = \\mathbf{v}(t) + \\mathbf{a}(t)\\Delta t\n",
    "\\end{aligned}\n",
    "$$\n",
    "\n",
    "## II Euler-Cromer method\n",
    "\n",
    "In the Euler-Cromer method, we update the velocity first, and then use the new velocity to update the position. i.e.,\n",
    "\n",
    "$$\n",
    "\\begin{aligned}\n",
    "\\mathbf{v}(t + \\Delta t) & = \\mathbf{v}(t) + \\mathbf{a}(t)\\Delta t \\\\\n",
    "\\mathbf{r}(t + \\Delta t) & = \\mathbf{r}(t) + \\mathbf{v}(t + \\Delta t)\\Delta t\n",
    "\\end{aligned}\n",
    "$$\n",
    "\n",
    "An even better method is ...\n",
    "\n",
    "## III Verlet method\n",
    "\n",
    "This was popularised by Loup Verlet in 1967 (although first discovered two centuries before) for molecular dynamics simulations. It is very important nowadays for calculating such things as the interaction of large molecules (e.g. for developing theraputic drugs).\n",
    "\n",
    "The method can be written as\n",
    "\n",
    "$$\n",
    "\\begin{aligned}\n",
    "\\mathbf{r}(t + \\Delta t) & = \\mathbf{r}(t) + \\mathbf{v}(t)\\Delta t + (1/2)\\mathbf{a}(t)\\Delta t^2 \\\\\n",
    "\\mathbf{v}(t + \\Delta t) & = \\mathbf{v}(t) + 1/2 [\\mathbf{a}(t)+\\mathbf{a}(t + \\Delta t)]\\Delta t\n",
    "\\end{aligned}\n",
    "$$\n",
    "\n",
    "Strictly speaking, this is called the 'velocity Verlet' method. (It is closely related to the so-called 'leapfrog' method.)\n",
    "\n",
    "So you need to evaluate the acceleration $\\mathbf{a}$ at the current point (time $t$) and the next point (time $t+\\Delta t$). Since $\\mathbf{a}$ depends only on position $\\mathbf{r}$ in our case of orbits, this is straightforward because the next position is calculated in the first line.\n",
    "\n",
    "The clever thing about the integrator is that it is time-reversible, and this means that the energy of the system is in principle exactly (not just approximately) conserved. This leads to huge improvements in accuracy.\n",
    "\n",
    "# How to program these methods\n",
    "\n",
    "**Note**: If you are still a little unsure about using functions, _now_ is the time to revise, ask a demonstrator, and go to office hours.\n",
    "\n",
    "To implement and compare the above methods you should create a general `orbit_solve` function, that will solve your equations for any choice of initial conditions `r0` and `v0`, integration time `tmax` , number of integration points `N` , and (eventually) choice of numerical method.\n",
    "\n",
    "Since $\\mathbf{r}$ and $\\mathbf{v}$ are vectors, we write their x- and y-components with the help of a numpy array. The initial conditions `r0` and `v0` will each be length-2 numpy arrays (representing the 2D vectors) that contains the initial position and initial velocity vectors. For example"
   ]
  },
  {
   "cell_type": "code",
   "execution_count": 2,
   "metadata": {},
   "outputs": [],
   "source": [
    "# some purely arbitrary values !\n",
    "r0 = [1, 0] # positive x-component only set to 1\n",
    "v0 = [0 , 0.3] # negative y-component only set to 0.3"
   ]
  },
  {
   "cell_type": "markdown",
   "metadata": {},
   "source": [
    "So the `orbit_solve` function would be structured like this (where we use `r[i]` for $\\mathbf{r}(t)$, `r[i+1]` for $\\mathbf{r}(t + \\Delta t)$ and so on):\n",
    "\n",
    "```python\n",
    "def orbit_solve (r0, v0, tmax, N, method = 'euler'):\n",
    "    # set-up the time-step using tmax and N:\n",
    "    ...\n",
    "    # set up an array for the output times (using tmax, time-step and N):\n",
    "    ...\n",
    "    # set up arrays for the positions and velocities (see below)\n",
    "    ...\n",
    "    # include the initial conditions in the arrays\n",
    "    ...\n",
    "    # then do the integration for all the integration points \n",
    "    for i in range (0, N-1): \n",
    "        r[i+1] = ....\n",
    "        v[i+1] = ....\n",
    "    # output the solution (arrays for positions and velocities) versus time\n",
    "    return t, r, v\n",
    "```\n",
    "\n",
    "Include the `method` keyword since you will modify this function shortly. (You will use `if` statements to get the code to use the desired integrator, so that the one `orbit_solve` function can call an Euler, Euler-Cromer or Verlet integrator, depending on the choice input into the `orbit_solve` function.)\n",
    "\n",
    "The returned values `t`, `r` and `v` should be length-N arrays of the time, position vector, and velocity vector at each time step of the integration (i = 0, 1, 2, ... N-1).\n",
    "\n",
    "**Help on the vectors**: It’s easy to get confused when dealing with a length-N array (representing N time steps) of length-2 arrays (representing the x- and y-components of vectors).\n",
    "\n",
    "To define an array r of 2D vectors of length N for example, you can write"
   ]
  },
  {
   "cell_type": "code",
   "execution_count": 4,
   "metadata": {},
   "outputs": [],
   "source": [
    "N = 10\n",
    "r = np.zeros((N,2)) # N rows (time step), 2 columns (x- and y-components)\n",
    "v = np.zeros((N,2)) # same shape for v"
   ]
  },
  {
   "cell_type": "markdown",
   "metadata": {},
   "source": [
    "So, with `N` equal to 10, `r` looks like this:"
   ]
  },
  {
   "cell_type": "code",
   "execution_count": 5,
   "metadata": {},
   "outputs": [
    {
     "data": {
      "text/plain": [
       "array([[0., 0.],\n",
       "       [0., 0.],\n",
       "       [0., 0.],\n",
       "       [0., 0.],\n",
       "       [0., 0.],\n",
       "       [0., 0.],\n",
       "       [0., 0.],\n",
       "       [0., 0.],\n",
       "       [0., 0.],\n",
       "       [0., 0.]])"
      ]
     },
     "execution_count": 5,
     "metadata": {},
     "output_type": "execute_result"
    }
   ],
   "source": [
    "r"
   ]
  },
  {
   "cell_type": "markdown",
   "metadata": {},
   "source": [
    "Going down the rows is equivalent to stepping in time. The first row of `r` (corresponding to zero time) is `r[0]`,"
   ]
  },
  {
   "cell_type": "code",
   "execution_count": 6,
   "metadata": {},
   "outputs": [
    {
     "data": {
      "text/plain": [
       "array([0., 0.])"
      ]
     },
     "execution_count": 6,
     "metadata": {},
     "output_type": "execute_result"
    }
   ],
   "source": [
    "r[0]"
   ]
  },
  {
   "cell_type": "markdown",
   "metadata": {},
   "source": [
    "which we can change:"
   ]
  },
  {
   "cell_type": "code",
   "execution_count": 7,
   "metadata": {},
   "outputs": [
    {
     "name": "stdout",
     "output_type": "stream",
     "text": [
      "[10.  0.]\n"
     ]
    }
   ],
   "source": [
    "x0=10\n",
    "y0=0\n",
    "r[0]=[x0,y0]\n",
    "\n",
    "print(r[0])"
   ]
  },
  {
   "cell_type": "markdown",
   "metadata": {},
   "source": [
    "The first element of this row (corresponding to the x-component) is `r[0][0]`, or alternatively `r[0,0]`,"
   ]
  },
  {
   "cell_type": "code",
   "execution_count": 8,
   "metadata": {},
   "outputs": [
    {
     "data": {
      "text/plain": [
       "10.0"
      ]
     },
     "execution_count": 8,
     "metadata": {},
     "output_type": "execute_result"
    }
   ],
   "source": [
    "r[0,0]"
   ]
  },
  {
   "cell_type": "markdown",
   "metadata": {},
   "source": [
    "To get all the rows of column 0, you would use `r[:,0]`"
   ]
  },
  {
   "cell_type": "code",
   "execution_count": 9,
   "metadata": {},
   "outputs": [
    {
     "data": {
      "text/plain": [
       "array([10.,  0.,  0.,  0.,  0.,  0.,  0.,  0.,  0.,  0.])"
      ]
     },
     "execution_count": 9,
     "metadata": {},
     "output_type": "execute_result"
    }
   ],
   "source": [
    "r[:,0]"
   ]
  },
  {
   "cell_type": "markdown",
   "metadata": {},
   "source": [
    "which is returned as a 1D array, ready for plotting. Thus, these arrays can then be plotted after the solution has been produced.\n",
    "\n",
    "# Exercises\n",
    "\n",
    "This must be marked before you leave the lab. Mark weighting is in brackets. **Save your work to GitHub after having run all cells with `Runtime` -> `Restart and run all`. And do not change the notebook's filename.** Do add comments to your code, you'll lose points if your code is hard to understand. Graphs without labels (or units when appropriate) are not worth any point.\n",
    "\n",
    "## Exercise 0\n",
    "\n",
    "See LearningCentral for an example using the [Lotka-Volterra equations](https://en.wikipedia.org/wiki/Lotka%E2%80%93Volterra_equations).\n",
    "\n",
    "## Exercise 1 \n",
    "[6] Complete the orbit_solve function above to implement the Euler method."
   ]
  },
  {
   "cell_type": "code",
   "execution_count": null,
   "metadata": {},
   "outputs": [],
   "source": []
  },
  {
   "cell_type": "markdown",
   "metadata": {},
   "source": [
    "## Exercise 2 \n",
    "[4] Use your function to solve the 2D equations of motion for a circular orbit. For simplicity, you can set $G = 1$ and $M = 1$. Calculate the time period for one orbit and integrate the equations for a few (say two) periods, and 100 points, and plot the (x,y) motion. Does this look like what you expect? How does this change if N is 200 and 400? (Plot all in one figure.)\n",
    "\n",
    "  **Hint**: To get the right initial conditions for a circular orbit you can do the following. Choose some separation, and some initial position (for example, $r = 10$ and $x(0) = 10$ and $y(0) = 0$). Then calculate the theoretical value of $\\omega$ for a circular orbit, and hence the appropriate initial values of $v_x(0)$ and $v_y(0)$. Note that the velocity vector will be perpendicular to the position vector for a circular orbit. You can work out what the time period $T$ is for one orbit, and choose a time step a multiple of $\\Delta t = T/100$ etc.\n"
   ]
  },
  {
   "cell_type": "code",
   "execution_count": null,
   "metadata": {},
   "outputs": [],
   "source": []
  },
  {
   "cell_type": "markdown",
   "metadata": {},
   "source": [
    "## Exercise 3\n",
    "\n",
    "[6] Modify your function to include both the Euler-Cromer method and the Verlet method. The method keyword in the function should be used to select the integration method used in the function (using an `if` statement)."
   ]
  },
  {
   "cell_type": "code",
   "execution_count": null,
   "metadata": {},
   "outputs": [],
   "source": []
  },
  {
   "cell_type": "markdown",
   "metadata": {},
   "source": [
    "## Exercise 4\n",
    "\n",
    "[4] Compare the Euler, Euler-Cromer and Verlet method by plotting a graph for a given number of points. Again, choose just a few orbits.\n"
   ]
  },
  {
   "cell_type": "code",
   "execution_count": null,
   "metadata": {},
   "outputs": [],
   "source": []
  },
  {
   "cell_type": "markdown",
   "metadata": {},
   "source": [
    "## Exercise 5\n",
    "\n",
    "Not marked, but useful to check your results: modify your function to also include the [odeint](https://docs.scipy.org/doc/scipy/reference/generated/scipy.integrate.odeint.html) function (which uses Adams methods (predictor-corrector) in the nonstiff case, and Backward Differentiation Formula (BDF) methods (the Gear methods) in the stiff case). Compare your results. You can also add the newer [solve_ivp](https://docs.scipy.org/doc/scipy/reference/generated/scipy.integrate.solve_ivp.html) function from scipy, which itself includes many integration methods."
   ]
  },
  {
   "cell_type": "code",
   "execution_count": null,
   "metadata": {},
   "outputs": [],
   "source": []
  },
  {
   "cell_type": "markdown",
   "metadata": {},
   "source": [
    "## Exercise 6\n",
    "\n",
    "Not marked. If you have time, explore some elliptical orbits."
   ]
  },
  {
   "cell_type": "code",
   "execution_count": null,
   "metadata": {},
   "outputs": [],
   "source": []
  },
  {
   "cell_type": "markdown",
   "metadata": {},
   "source": [
    "## Exercise 7\n",
    "\n",
    "Not marked. If you still have time, it’s useful to plot out the total energy of the mass $m$ versus time. Do this for 10 orbits this time, and 200 points.\n",
    "\n",
    " **Hint**: The total energy is just $E = T + V = mv^2/2+V(r) = mv^2/2 - G M m/r$ . So it’s easy to find the energy against time (as an array) given the position and velocity arrays. (Pick a mass $m = 1$ since it only scales the energy and doesn’t change the equations of motion as we have fixed $M$ anyway.)"
   ]
  },
  {
   "cell_type": "code",
   "execution_count": null,
   "metadata": {},
   "outputs": [],
   "source": []
  }
 ],
 "metadata": {
  "kernelspec": {
   "display_name": "Python 3",
   "language": "python",
   "name": "python3"
  },
  "language_info": {
   "codemirror_mode": {
    "name": "ipython",
    "version": 3
   },
   "file_extension": ".py",
   "mimetype": "text/x-python",
   "name": "python",
   "nbconvert_exporter": "python",
   "pygments_lexer": "ipython3",
   "version": "3.7.10"
  }
 },
 "nbformat": 4,
 "nbformat_minor": 2
}
